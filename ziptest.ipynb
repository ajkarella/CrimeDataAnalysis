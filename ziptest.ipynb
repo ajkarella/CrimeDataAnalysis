{
 "cells": [
  {
   "cell_type": "code",
   "execution_count": 287,
   "metadata": {},
   "outputs": [],
   "source": [
    "import pandas as pd"
   ]
  },
  {
   "cell_type": "code",
   "execution_count": 288,
   "metadata": {},
   "outputs": [],
   "source": [
    "zips = pd.read_csv('US.csv',header=None)"
   ]
  },
  {
   "cell_type": "code",
   "execution_count": 290,
   "metadata": {},
   "outputs": [],
   "source": [
    "cols = [1,9,10]\n",
    "zips = zips[cols]\n",
    "zips.columns = ['ZIP','LAT','LNG']"
   ]
  },
  {
   "cell_type": "code",
   "execution_count": 291,
   "metadata": {},
   "outputs": [],
   "source": [
    "zips = zips.drop_duplicates(subset = ['LAT', 'LNG'],keep = 'last').reset_index(drop = True)"
   ]
  },
  {
   "cell_type": "code",
   "execution_count": 292,
   "metadata": {},
   "outputs": [],
   "source": [
    "# sets upper and lower bounds for lat, then cuts out all others\n",
    "\n",
    "def cutlats(lat,cutoff=.015):\n",
    "    lower = lat - cutoff\n",
    "    upper = lat + cutoff\n",
    "    latcut = zips.loc[(zips['LAT'] > lower) & (zips['LAT'] < upper)]\n",
    "    return latcut\n",
    "    "
   ]
  },
  {
   "cell_type": "code",
   "execution_count": 293,
   "metadata": {},
   "outputs": [],
   "source": [
    "def cutlons(lon,cutoff=.015):\n",
    "    lower = lon - cutoff\n",
    "    upper = lon + cutoff\n",
    "    loncut = zips.loc[(zips['LNG'] > lower) & (zips['LNG'] < upper)]\n",
    "    return loncut"
   ]
  },
  {
   "cell_type": "code",
   "execution_count": 306,
   "metadata": {},
   "outputs": [],
   "source": [
    "def cutzips(lat,lon,sensitivity=.001):\n",
    "    cutoff = .02\n",
    "    a = cutlats(lat)\n",
    "    b = cutlons(lon)\n",
    "    df = pd.merge(a, b, how='inner', on=['ZIP','LAT', 'LNG'])\n",
    "    while len(df) > 1:\n",
    "        cutoff = cutoff - sensitivity\n",
    "        a = cutlats(lat,cutoff)\n",
    "        b = cutlons(lon,cutoff)\n",
    "        df = pd.merge(a, b, how='inner', on=['ZIP','LAT', 'LNG'])\n",
    "    return df\n",
    "        \n",
    "        "
   ]
  },
  {
   "cell_type": "code",
   "execution_count": 307,
   "metadata": {},
   "outputs": [
    {
     "name": "stdout",
     "output_type": "stream",
     "text": [
      "6\n",
      "6\n",
      "5\n",
      "5\n",
      "5\n",
      "5\n",
      "4\n",
      "3\n",
      "2\n",
      "2\n",
      "2\n",
      "1\n",
      "     ZIP      LAT      LNG\n",
      "0  10035  40.8011 -73.9371\n",
      "40\n",
      "38\n",
      "34\n",
      "31\n",
      "25\n",
      "23\n",
      "21\n",
      "17\n",
      "13\n",
      "11\n",
      "9\n",
      "6\n",
      "4\n",
      "2\n",
      "2\n",
      "2\n",
      "1\n",
      "     ZIP      LAT      LNG\n",
      "0  10036  40.7597 -73.9918\n",
      "3\n",
      "3\n",
      "3\n",
      "3\n",
      "2\n",
      "1\n",
      "     ZIP      LAT     LNG\n",
      "0  11226  40.6467 -73.957\n",
      "4\n",
      "4\n",
      "4\n",
      "3\n",
      "2\n",
      "2\n",
      "2\n",
      "2\n",
      "2\n",
      "2\n",
      "1\n",
      "     ZIP    LAT      LNG\n",
      "0  11213  40.67 -73.9367\n",
      "21\n",
      "20\n",
      "16\n",
      "15\n",
      "14\n",
      "13\n",
      "12\n",
      "11\n",
      "10\n",
      "7\n",
      "4\n",
      "3\n",
      "3\n",
      "1\n",
      "     ZIP      LAT      LNG\n",
      "0  10013  40.7185 -74.0025\n"
     ]
    }
   ],
   "source": [
    "ah = [(40.800694331000045,-73.94110928599997),\n",
    "(40.75783900300007,-73.99121211099998),\n",
    "(40.648650085000035,-73.95033556299995),\n",
    "(40.67458330800008,-73.93022154099998),\n",
    "(40.716195914000025,-73.99749074599998)]\n",
    "\n",
    "for i in ah:\n",
    "    print(cutzips(i[0],i[1]))"
   ]
  },
  {
   "cell_type": "code",
   "execution_count": 304,
   "metadata": {},
   "outputs": [
    {
     "name": "stdout",
     "output_type": "stream",
     "text": [
      "     ZIP      LAT      LNG\n",
      "0  10475  40.8729 -73.8278\n",
      "     ZIP      LAT     LNG\n",
      "0  11219  40.6336 -73.996\n",
      "     ZIP      LAT      LNG\n",
      "0  10303  40.6301 -74.1607\n",
      "     ZIP      LAT      LNG\n",
      "0  11225  40.6628 -73.9546\n",
      "     ZIP      LAT      LNG\n",
      "0  11435  40.7029 -73.8111\n",
      "     ZIP      LAT     LNG\n",
      "0  11691  40.6006 -73.758\n"
     ]
    }
   ],
   "source": [
    "\n",
    "ah = [(40.86812253100004,\n",
    "-73.83136390999994),\n",
    "(40.62991922600003,\n",
    "-74.00640337899995),\n",
    "(40.63739917600003,\n",
    "-74.16071284299994),\n",
    "(40.66313454000005,\n",
    "-73.95089428399997),\n",
    "(40.70059059000005,\n",
    "-73.80774319999993),\n",
    "(40.60269922100008,\n",
    "-73.76300278499997)]\n",
    "\n",
    "for i in ah:\n",
    "    print(cutzips(i[0],i[1]))"
   ]
  },
  {
   "cell_type": "code",
   "execution_count": null,
   "metadata": {},
   "outputs": [],
   "source": []
  }
 ],
 "metadata": {
  "kernelspec": {
   "display_name": "Python 3",
   "language": "python",
   "name": "python3"
  },
  "language_info": {
   "codemirror_mode": {
    "name": "ipython",
    "version": 3
   },
   "file_extension": ".py",
   "mimetype": "text/x-python",
   "name": "python",
   "nbconvert_exporter": "python",
   "pygments_lexer": "ipython3",
   "version": "3.8.3"
  }
 },
 "nbformat": 4,
 "nbformat_minor": 4
}
